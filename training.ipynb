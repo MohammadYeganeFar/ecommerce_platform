{
 "cells": [
  {
   "cell_type": "code",
   "execution_count": 1,
   "metadata": {},
   "outputs": [],
   "source": [
    "import tkinter as tk\n",
    "from tkinter import messagebox\n",
    "\n",
    "def say_hello():\n",
    "    messagebox.showinfo(\"Greeting\", \"سلام!\")\n",
    "\n",
    "def say_goodbye():\n",
    "    messagebox.showinfo(\"Farewell\", \"خداحافظ!\")\n",
    "\n",
    "def about_app():\n",
    "    messagebox.showinfo(\"About\", \"این یک نمونه ساده از منوی گرافیکی است.\")\n",
    "\n",
    "# ایجاد پنجره اصلی\n",
    "root = tk.Tk()\n",
    "root.title(\"Simple Nested Menu\")\n",
    "\n",
    "# ایجاد منو\n",
    "menu_bar = tk.Menu(root)\n",
    "root.config(menu=menu_bar)\n",
    "\n",
    "# منوی اصلی\n",
    "file_menu = tk.Menu(menu_bar, tearoff=0)\n",
    "menu_bar.add_cascade(label=\"File\", menu=file_menu)\n",
    "\n",
    "# آیتم‌های منوی File\n",
    "file_menu.add_command(label=\"Say Hello\", command=say_hello)\n",
    "file_menu.add_command(label=\"Say Goodbye\", command=say_goodbye)\n",
    "file_menu.add_separator()\n",
    "file_menu.add_command(label=\"Exit\", command=root.quit)\n",
    "\n",
    "# منوی Help\n",
    "help_menu = tk.Menu(menu_bar, tearoff=0)\n",
    "menu_bar.add_cascade(label=\"Help\", menu=help_menu)\n",
    "\n",
    "# آیتم‌های منوی Help\n",
    "help_menu.add_command(label=\"About\", command=about_app)\n",
    "\n",
    "# زیرمنوی تو در تو در Help\n",
    "nested_menu = tk.Menu(help_menu, tearoff=0)\n",
    "help_menu.add_cascade(label=\"More Options\", menu=nested_menu)\n",
    "\n",
    "# آیتم‌های زیرمنوی More Options\n",
    "nested_menu.add_command(label=\"Option 1\", command=lambda: messagebox.showinfo(\"Option 1\", \"شما گزینه ۱ را انتخاب کردید!\"))\n",
    "nested_menu.add_command(label=\"Option 2\", command=lambda: messagebox.showinfo(\"Option 2\", \"شما گزینه ۲ را انتخاب کردید!\"))\n",
    "\n",
    "# اجرای برنامه\n",
    "root.mainloop()"
   ]
  },
  {
   "cell_type": "code",
   "execution_count": 1,
   "metadata": {},
   "outputs": [
    {
     "ename": "ValueError",
     "evalue": "invalid literal for int() with base 10: 's'",
     "output_type": "error",
     "traceback": [
      "\u001b[1;31m---------------------------------------------------------------------------\u001b[0m",
      "\u001b[1;31mValueError\u001b[0m                                Traceback (most recent call last)",
      "Cell \u001b[1;32mIn[1], line 2\u001b[0m\n\u001b[0;32m      1\u001b[0m s \u001b[38;5;241m=\u001b[39m \u001b[38;5;124m\"\u001b[39m\u001b[38;5;124ms\u001b[39m\u001b[38;5;124m\"\u001b[39m\n\u001b[1;32m----> 2\u001b[0m \u001b[38;5;28;43mint\u001b[39;49m\u001b[43m(\u001b[49m\u001b[43ms\u001b[49m\u001b[43m)\u001b[49m\n",
      "\u001b[1;31mValueError\u001b[0m: invalid literal for int() with base 10: 's'"
     ]
    }
   ],
   "source": [
    "s = \"s\"\n",
    "int(s)"
   ]
  },
  {
   "cell_type": "code",
   "execution_count": null,
   "metadata": {},
   "outputs": [],
   "source": []
  },
  {
   "cell_type": "code",
   "execution_count": null,
   "metadata": {},
   "outputs": [],
   "source": [
    "from dearpygui.core import *\n",
    "from dearpygui.simple import *\n",
    "\n",
    "# توابع برای منوها\n",
    "def greet_user(sender, data):\n",
    "    set_value(\"output\", \"Hello, User!\")\n",
    "\n",
    "def show_submenu_message(sender, data):\n",
    "    set_value(\"output\", \"This is a submenu!\")\n",
    "\n",
    "# ساخت پنجره\n",
    "with window(\"Main Window\", width=400, height=300):\n",
    "    # ایجاد منوی بالا\n",
    "    with menu_bar(\"Main Menu\"):\n",
    "        with menu(\"File\"):\n",
    "            add_menu_item(\"Greet\", callback=greet_user)\n",
    "            add_menu_item(\"Exit\", callback=lambda sender, data: stop_dearpygui())\n",
    "        \n",
    "        with menu(\"Help\"):\n",
    "            add_menu_item(\"About\", callback=show_submenu_message)\n",
    "\n",
    "    # لیبل برای نمایش پیام\n",
    "    add_text(\"\", source=\"output\")\n",
    "\n",
    "# اجرای برنامه\n",
    "start_dearpygui()"
   ]
  },
  {
   "attachments": {},
   "cell_type": "markdown",
   "metadata": {},
   "source": [
    "یک - چیز جالب که نمیدونستم اینه که میتونی گتر و ستر رو بدی به کلس پراپرتی\n",
    "بعدم بزاریش توی یک ابجکت با اسم مربوطه.مثلا همین جندر که من دادم.\n",
    "\n",
    "دو - میتونی اتریبیوت دلیتر رو هم بدی بهش. تا به  دستور دل آبجکت.اتریبیوت، اونو حذف کنی .\n",
    "در غیر این صورت ارور میده که هس نو دلیتر."
   ]
  },
  {
   "cell_type": "markdown",
   "metadata": {},
   "source": [
    "testing"
   ]
  },
  {
   "cell_type": "code",
   "execution_count": 2,
   "metadata": {},
   "outputs": [
    {
     "name": "stdout",
     "output_type": "stream",
     "text": [
      "hi from DerivedClass1\n"
     ]
    }
   ],
   "source": []
  },
  {
   "cell_type": "code",
   "execution_count": 3,
   "metadata": {},
   "outputs": [
    {
     "name": "stdout",
     "output_type": "stream",
     "text": [
      "<__main__.a object at 0x0000025823CEB770>\n"
     ]
    }
   ],
   "source": [
    "class a:\n",
    "    s = [\"s\"]\n",
    "    @staticmethod\n",
    "    def hi():\n",
    "        return a.s[\"s\"]()\n",
    "\n",
    "m = a.hi()\n",
    "print(m)"
   ]
  },
  {
   "cell_type": "code",
   "execution_count": 15,
   "metadata": {},
   "outputs": [
    {
     "name": "stdout",
     "output_type": "stream",
     "text": [
      "seting vehicle type...\n",
      "setting silandrss number\n",
      "Vehicle type:suv\n",
      "model: toyota\n",
      "Engine silandrs: 8\n"
     ]
    }
   ],
   "source": [
    "\n",
    "class Vehicle:\n",
    "    def __init__(self, vehicle_type) :\n",
    "        self.vehicle_type = vehicle_type\n",
    "        print(\"seting vehicle type...\")\n",
    "    \n",
    "class Engine:\n",
    "    def __init__(self, silandrs : int):\n",
    "        self.silandrs = silandrs\n",
    "        print(\"setting silandrss number\")\n",
    "        \n",
    "\n",
    "class Car(Vehicle):\n",
    "    def __init__(self, vehicle_type, model, silandrs):\n",
    "        super().__init__(vehicle_type)\n",
    "        self.model = model\n",
    "        self.engine = Engine(silandrs)\n",
    "\n",
    "    def dis_info(self):\n",
    "        print(f\"Vehicle type:{self.vehicle_type}\\nmodel: {self.model}\\nEngine silandrs: {self.engine.silandrs}\")\n",
    "car1 = Car(\"suv\", \"toyota\", 8)\n",
    "car1.dis_info()\n"
   ]
  },
  {
   "attachments": {},
   "cell_type": "markdown",
   "metadata": {},
   "source": [
    "1) self.engine = self\n",
    "2) self = Engine(8)\n",
    "3) درنتیجه: self.engine = Engine(8)\n"
   ]
  },
  {
   "cell_type": "code",
   "execution_count": 12,
   "metadata": {},
   "outputs": [
    {
     "name": "stdout",
     "output_type": "stream",
     "text": [
      "car is startded 👟🏃‍♀️‍➡️\n",
      "car is stoped ⛔\n"
     ]
    }
   ],
   "source": [
    "# abstartct class and methods\n",
    "from abc import ABC, abstractmethod\n",
    "\n",
    "class Vehicle(ABC):\n",
    "\n",
    "    # چطور کاری کنیم که نتونه یک ابجکت از این \n",
    "    # کلاس ساخته شه؟\n",
    "    \n",
    "    @abstractmethod\n",
    "    def go(self):\n",
    "        pass\n",
    "\n",
    "    @abstractmethod\n",
    "    def stop(self):\n",
    "        pass\n",
    "        \n",
    "class Car(Vehicle):\n",
    "    \n",
    "    def go(self):\n",
    "        print(\"car is startded 👟🏃‍♀️‍➡️\")\n",
    "\n",
    "    def stop(self):\n",
    "        print(\"car is stoped ⛔\")\n",
    "car1 = Car()\n",
    "car1.go()\n",
    "car1.stop()\n",
    "\n"
   ]
  },
  {
   "cell_type": "markdown",
   "metadata": {},
   "source": [
    "TypeError: Can't instantiate abstract class Vehicle without an implementation for abstract methods 'go', 'stop'\n",
    "نمیشه بدون پیاده سازی ابسترکت متود های گو و استاپ، از کلس ویکل نمونه سازی کرد\n",
    "impemention = پیاده سازی"
   ]
  },
  {
   "cell_type": "code",
   "execution_count": 16,
   "metadata": {},
   "outputs": [
    {
     "name": "stdout",
     "output_type": "stream",
     "text": [
      "hiiii 🙌\n"
     ]
    }
   ],
   "source": [
    "# mixin\n",
    "\n",
    "class A:\n",
    "    pass\n",
    "\n",
    "class B:\n",
    "    pass\n",
    "\n",
    "class C(A):\n",
    "    pass\n",
    "\n",
    "class D(A):\n",
    "    pass\n",
    "\n",
    "class mixin:\n",
    "    def print_hi(self):\n",
    "        print(\"hiiii 🙌\")\n",
    "\n",
    "class E(D, mixin):\n",
    "    pass\n",
    "\n",
    "o1 = E()\n",
    "o1.print_hi()"
   ]
  },
  {
   "cell_type": "code",
   "execution_count": 8,
   "metadata": {},
   "outputs": [
    {
     "name": "stdout",
     "output_type": "stream",
     "text": [
      "tere is\n"
     ]
    }
   ],
   "source": [
    "data_base = {\"m\" : {\"W\":12}}\n",
    "if data_base.get(\"m\"):\n",
    "    print(\"tere is\")\n",
    "    # del folan\n",
    "else:\n",
    "    print(\"not there\")"
   ]
  },
  {
   "cell_type": "code",
   "execution_count": 1,
   "metadata": {},
   "outputs": [
    {
     "name": "stdout",
     "output_type": "stream",
     "text": [
      "Im __init__. if you create a object, I will wake up like now!\n"
     ]
    }
   ],
   "source": [
    "class Car:\n",
    "    def __init__(car_that_I_give):\n",
    "        print(\"Im __init__. if you create a object, I will wake up like now!\")\n",
    "    \n",
    "    # want start? choose your car and start\n",
    "    def start(car_that_I_give):\n",
    "        car_that_I_give.is_on = True\n",
    "\n",
    "peykan = Car()\n",
    "# peykan is = car_that_I_give\n",
    "\n",
    "peykan.start()"
   ]
  },
  {
   "cell_type": "code",
   "execution_count": null,
   "metadata": {},
   "outputs": [],
   "source": [
    "\"\"\"\n",
    "یک کلس فایل که رید و رایتش به صورت انکپسولیشن هست\n",
    "\n",
    "\"\"\"\n",
    "\n",
    "class File:\n",
    "    def __init__(self, f_path):\n",
    "        # store file path with encapsulation.\n",
    "        self._f_path = f_path\n",
    "    \n",
    "    "
   ]
  }
 ],
 "metadata": {
  "kernelspec": {
   "display_name": "Python 3",
   "language": "python",
   "name": "python3"
  },
  "language_info": {
   "codemirror_mode": {
    "name": "ipython",
    "version": 3
   },
   "file_extension": ".py",
   "mimetype": "text/x-python",
   "name": "python",
   "nbconvert_exporter": "python",
   "pygments_lexer": "ipython3",
   "version": "3.12.4"
  },
  "orig_nbformat": 4
 },
 "nbformat": 4,
 "nbformat_minor": 2
}
